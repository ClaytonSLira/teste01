{
  "nbformat": 4,
  "nbformat_minor": 0,
  "metadata": {
    "colab": {
      "provenance": [],
      "collapsed_sections": [
        "PEZtcnkseymI",
        "ebraTlWhfIM3",
        "t8KNWfrhABGQ",
        "5O0uUc1_K638",
        "ZwrGOv6CK_K8",
        "ObdNIL5RLC6k",
        "tJgp8K9TKuCd",
        "mw7Z6TtQLGHt",
        "Yf_0SzraRwyd",
        "zskDU27qR3tk",
        "O-9R7u6YL4F3"
      ],
      "authorship_tag": "ABX9TyNqIDb6KXCpSqJ+uPQvnu+q",
      "include_colab_link": true
    },
    "kernelspec": {
      "name": "python3",
      "display_name": "Python 3"
    },
    "language_info": {
      "name": "python"
    }
  },
  "cells": [
    {
      "cell_type": "markdown",
      "metadata": {
        "id": "view-in-github",
        "colab_type": "text"
      },
      "source": [
        "<a href=\"https://colab.research.google.com/github/ClaytonSLira/teste01/blob/main/REVIS%C3%83O_AP.ipynb\" target=\"_parent\"><img src=\"https://colab.research.google.com/assets/colab-badge.svg\" alt=\"Open In Colab\"/></a>"
      ]
    },
    {
      "cell_type": "markdown",
      "source": [
        "#Revisão Algoritmos e Programação I"
      ],
      "metadata": {
        "id": "PEZtcnkseymI"
      }
    },
    {
      "cell_type": "markdown",
      "source": [
        "##Aula 1 - Fundamentos de Algoritmos e Programação\n"
      ],
      "metadata": {
        "id": "ebraTlWhfIM3"
      }
    },
    {
      "cell_type": "code",
      "source": [],
      "metadata": {
        "id": "Vdc_CqoYf2q-"
      },
      "execution_count": null,
      "outputs": []
    },
    {
      "cell_type": "markdown",
      "source": [
        "##Aula 2 - Estrutura Sequencial"
      ],
      "metadata": {
        "id": "CRr_WLEmfPlW"
      }
    },
    {
      "cell_type": "code",
      "source": [],
      "metadata": {
        "id": "UZbEQBlVf3VW"
      },
      "execution_count": null,
      "outputs": []
    },
    {
      "cell_type": "markdown",
      "source": [
        "##Aula 3 - Estrututra de Decisão Simples e Composta"
      ],
      "metadata": {
        "id": "WBk6insRfWQf"
      }
    },
    {
      "cell_type": "code",
      "source": [],
      "metadata": {
        "id": "sx7n3GMgf33e"
      },
      "execution_count": null,
      "outputs": []
    },
    {
      "cell_type": "markdown",
      "source": [
        "##Aula 4 - Estrutura de Decisão Encadeada"
      ],
      "metadata": {
        "id": "IWQEMWoCfbgG"
      }
    },
    {
      "cell_type": "code",
      "source": [],
      "metadata": {
        "id": "lgK3RTWgf4in"
      },
      "execution_count": null,
      "outputs": []
    },
    {
      "cell_type": "markdown",
      "source": [
        "##Aula 5 - Estrutura de Repetição - While"
      ],
      "metadata": {
        "id": "bGTWr-SffipG"
      }
    },
    {
      "cell_type": "code",
      "source": [],
      "metadata": {
        "id": "lvbAc5kHf5I2"
      },
      "execution_count": null,
      "outputs": []
    },
    {
      "cell_type": "markdown",
      "source": [
        "##Aula 6 - Estrutura de Repetição - For"
      ],
      "metadata": {
        "id": "kIzxVql6foyG"
      }
    },
    {
      "cell_type": "code",
      "source": [],
      "metadata": {
        "id": "So_3EVCjf5of"
      },
      "execution_count": null,
      "outputs": []
    },
    {
      "cell_type": "markdown",
      "source": [
        "##Aula 7 - Funções e Procedimentos"
      ],
      "metadata": {
        "id": "jsovaiCTftTG"
      }
    },
    {
      "cell_type": "code",
      "source": [],
      "metadata": {
        "id": "QbnOyR8ff6G9"
      },
      "execution_count": null,
      "outputs": []
    },
    {
      "cell_type": "markdown",
      "source": [
        "##Aula 8 - Vetores"
      ],
      "metadata": {
        "id": "zvbwqWWUfxOl"
      }
    },
    {
      "cell_type": "code",
      "source": [],
      "metadata": {
        "id": "UshGPmbJf6ne"
      },
      "execution_count": null,
      "outputs": []
    },
    {
      "cell_type": "markdown",
      "source": [
        "#Revisão Algoritmos e Programação II"
      ],
      "metadata": {
        "id": "t8KNWfrhABGQ"
      }
    },
    {
      "cell_type": "code",
      "source": [
        "import random as rd\n",
        "import numpy as np\n",
        "import array as ay"
      ],
      "metadata": {
        "id": "yZv7JrxvDEVu"
      },
      "execution_count": null,
      "outputs": []
    },
    {
      "cell_type": "markdown",
      "source": [
        "##AULA 1 - FUNÇÕES"
      ],
      "metadata": {
        "id": "5O0uUc1_K638"
      }
    },
    {
      "cell_type": "code",
      "execution_count": null,
      "metadata": {
        "colab": {
          "base_uri": "https://localhost:8080/",
          "height": 91
        },
        "id": "K7nJ1Di3_8Qk",
        "outputId": "d0b42b18-8ee4-4806-e4c6-c19458f5b93a"
      },
      "outputs": [
        {
          "output_type": "execute_result",
          "data": {
            "text/plain": [
              "\"print (y)\\n\\ndef hello(nome):\\n    print('Olá, '+nome)\\n    \\nhello('Cristina')\\n\\ndef ola(nome):\\n    return 'Olá ' + nome\\n\\ndef formatada(msn):\\n    print('#'*30)\\n    print('-'*30)\\n    print(msn)\\n    print('#'*30)\\n    print('-'*30)\\n\\noi = ola('Por Crishna')\\nprint(oi)\""
            ],
            "application/vnd.google.colaboratory.intrinsic+json": {
              "type": "string"
            }
          },
          "metadata": {},
          "execution_count": 6
        }
      ],
      "source": [
        "\n",
        "\n",
        "def nome_da_função (parametros_que_ela_vai_usar):\n",
        "  argumento_que_vai_ser_executado_por_ela = True\n",
        "\n",
        "  '''Aula 1, funcões e procedimentos, nesta aula foi apresentado a formulação de uma função que pode ser chamada em qualquer momento no código'''\n",
        "#Fazendo uma função que formule uma matriz.\n",
        "'''def soma(a, b):\n",
        "    res = a + b\n",
        "    return res\n",
        "\n",
        "x = 1\n",
        "y = 2\n",
        "print('A Soma é = ', soma(x, y))\n",
        "\n",
        "\n",
        "#Variaveis locais de comando\n",
        "def f1 (a):\n",
        "    print(a + x)'''\n",
        "\n",
        "'''def f2 (a):\n",
        "    #Para usar uma variavel global que ainda não foi definida usar a função 'global', que indica que aquela variavel esta no código principal.\n",
        "    global x\n",
        "    x = x + 1\n",
        "    y = 4\n",
        "    print(a + x + y)\n",
        "    '''\n",
        "\n",
        "#Variaveis globais\n",
        "'''x = 10\n",
        "f1(1)\n",
        "f2(2)'''\n",
        "#PNão é possivel usar uma variavel local no código global, póis ela foi definida somente dentro da função.\n",
        "'''print (y)\n",
        "\n",
        "def hello(nome):\n",
        "    print('Olá, '+nome)\n",
        "\n",
        "hello('Cristina')\n",
        "\n",
        "def ola(nome):\n",
        "    return 'Olá ' + nome\n",
        "\n",
        "def formatada(msn):\n",
        "    print('#'*30)\n",
        "    print('-'*30)\n",
        "    print(msn)\n",
        "    print('#'*30)\n",
        "    print('-'*30)\n",
        "\n",
        "oi = ola('Por Crishna')\n",
        "print(oi)'''\n",
        "\n"
      ]
    },
    {
      "cell_type": "markdown",
      "source": [
        "##AULA 2 - VETORES, MATRIZES E LISTAS"
      ],
      "metadata": {
        "id": "ZwrGOv6CK_K8"
      }
    },
    {
      "cell_type": "code",
      "source": [
        "\n",
        "\n",
        "vetor = [\"as posições que existem em uma lista\", \"para cada posição do vetor é armazenado um valor\"]\n",
        "matrizes = [\"um vetor que tem dimensão x e y\", \"tem duas dimensões\"]\n",
        "lista = [\"um vetor que armazena diversos tipos de dados diferentes\"]\n",
        "\n",
        "\n",
        "\n",
        "'''Vetores são estruturas compostas\n",
        "- Tem o primeiro elemento na posição 0\n",
        "se o tamanho for \"n\", sua ultima posição sera n- 1\n",
        "\n",
        "As matrizes são vetores porém em duas posições\n",
        "Sendo n = linhas e m = colunas\n",
        "As posições inciam em 0 tanto em n quanto em m\n",
        "\n",
        "Numpy = bliblioteca para utilizar matrizes e vetores'''\n",
        "\n",
        "'''LISTAS\n",
        "Funções principais de listas\n",
        "\n",
        "append = adiciona um novo valor no final da lista\n",
        "\n",
        "del = remove um valor da lista, dado o seu indice\n",
        "\n",
        "extend = insere um lista no final de outra lista\n",
        "\n",
        "in = verifica se um valor pertence a lista\n",
        "\n",
        "len = retorna o tamanho da lista\n",
        "\n",
        "max = retorna o maior valor da lista\n",
        "\n",
        "min = retorna o menor valor da lista\n",
        "\n",
        "reverse() = inverte os valores de uma lista\n",
        "\n",
        "sort() = ordena em ordem crescente\n",
        "\n",
        "sum = soma os valores da lista\n",
        "\n",
        "em Python, \"array\" pode se referir tanto à estrutura de dados de lista padrão (lista) quanto à estrutura de\n",
        "dados de array fornecida pela biblioteca array. A escolha entre essas estruturas depende das necessidades específicas\n",
        "do seu programa em termos de desempenho e tipo de dados.'''\n",
        "\n",
        "x= np.arange(10)\n",
        "print(x)\n",
        "\n",
        "'''para limitar a saida usamos [:n] isso mostrara apenas o valores até aquela contagem\n",
        "para mostrar apenas um intervalo usamos [n:m] isso ira mostrar apenas o intervalo entre um e outro\n",
        "e para mostrar de forma invertida usamos [::-1]\n",
        "'''\n",
        "\n",
        "x2 = np.random.randint(10, size=(3,2))\n",
        "print(x2)\n",
        "'''para reduzir a escala da matriz apenas na representação podemos usar [:n (para linhas), :m (para colunas)]\n",
        "e para mostrar a matriz invertida, usamos [::-1(para inverter as linhas), ::-1 (para as colunas)]'''\n",
        "\n",
        "'''para fazer uma rapartição e criar subvetores'''\n",
        "\n",
        "x3 = [1, 2, 3, 4, 5, 6, 7, 8, 9]\n",
        "x4, x5, x6 = np.split(x, [3,5])\n",
        "\n",
        "'''np.split(x, [3,5]) Nesse caso, dividimos o vetor x, criando três vetores, que são quebrados, do pri-\n",
        "meiro para o segundo, na terceira posição e, do segundo para o terceiro na quinta\n",
        "posição.'''\n",
        "\n",
        "'''append Adiciona um novo valor no final da lista.\n",
        "L = [1, 2, 3]\n",
        "L.append(100)\n",
        "Saída: [1, 2, 3, 100]\n",
        "\n",
        "\n",
        "del Remove um elemento da\n",
        "lista, dado seu índice.\n",
        "L = [1,2,3,4]\n",
        "del L[1]\n",
        "Saída: [1, 3, 4]\n",
        "\n",
        "\n",
        "extend Insere uma lista no final de outra lista.\n",
        "L = [0, 1, 2]\n",
        "L.extend([3, 4, 5])\n",
        "Saída: [0, 1, 2, 3, 4, 5]\n",
        "\n",
        "\n",
        "in Verifica se um valor pertence à lista.\n",
        "L = [1, 2, 3, 4]\n",
        "3 in L\n",
        "Saída: True\n",
        "\n",
        "\n",
        "len Retorna o tamanho da lista.\n",
        "L = [1, 2, 3, 4]\n",
        "len(L)\n",
        "Saída: 4\n",
        "\n",
        "\n",
        "max Retorna o maior valor da lista.\n",
        "L = [10, 40, 30, 20]\n",
        "max(L)\n",
        "Saída: 40\n",
        "\n",
        "\n",
        "min Retorna o menor valor da lista.\n",
        "L = [10, 40, 30, 20]\n",
        "min(L)\n",
        "Saída: 10\n",
        "\n",
        "\n",
        "reverse() Inverte os elementos de uma lista.\n",
        "L = [0, 1, 2, 3, 4, 5]\n",
        "L.reverse()\n",
        "Saída: [5, 4, 3, 2, 1, 0]\n",
        "\n",
        "\n",
        "sort() Ordena em ordem crescente.\n",
        "L = [3, 5, 2, 4, 1, 0]\n",
        "L.sort()\n",
        "Saída: [0, 1, 2, 3, 4, 5]\n",
        "\n",
        "\n",
        "sum Retorna a soma dos elementos da lista.\n",
        "L = [10, 20, 30]\n",
        "sum(L)\n",
        "Saída: 60'''\n",
        "\n",
        "\n",
        "\n",
        "#criando matrizes:\n"
      ],
      "metadata": {
        "colab": {
          "base_uri": "https://localhost:8080/",
          "height": 294
        },
        "id": "eMSyPf9DA0dm",
        "outputId": "c0ee83b0-e983-42f8-c148-382e415d90b2"
      },
      "execution_count": null,
      "outputs": [
        {
          "output_type": "stream",
          "name": "stdout",
          "text": [
            "[0 1 2 3 4 5 6 7 8 9]\n",
            "[[8 2]\n",
            " [6 3]\n",
            " [7 2]]\n"
          ]
        },
        {
          "output_type": "execute_result",
          "data": {
            "text/plain": [
              "'append Adiciona um novo valor no final da lista. \\nL = [1, 2, 3]\\nL.append(100)\\nSaída: [1, 2, 3, 100]\\n\\n\\ndel Remove um elemento da\\nlista, dado seu índice.\\nL = [1,2,3,4]\\ndel L[1]\\nSaída: [1, 3, 4]\\n\\n\\nextend Insere uma lista no final de outra lista.\\nL = [0, 1, 2]\\nL.extend([3, 4, 5])\\nSaída: [0, 1, 2, 3, 4, 5]\\n\\n\\nin Verifica se um valor pertence à lista.\\nL = [1, 2, 3, 4]\\n3 in L\\nSaída: True\\n\\n\\nlen Retorna o tamanho da lista.\\nL = [1, 2, 3, 4]\\nlen(L)\\nSaída: 4\\n\\n\\nmax Retorna o maior valor da lista.\\nL = [10, 40, 30, 20]\\nmax(L)\\nSaída: 40\\n\\n\\nmin Retorna o menor valor da lista.\\nL = [10, 40, 30, 20]\\nmin(L)\\nSaída: 10\\n\\n\\nreverse() Inverte os elementos de uma lista.\\nL = [0, 1, 2, 3, 4, 5]\\nL.reverse()\\nSaída: [5, 4, 3, 2, 1, 0]\\n\\n\\nsort() Ordena em ordem crescente.\\nL = [3, 5, 2, 4, 1, 0]\\nL.sort()\\nSaída: [0, 1, 2, 3, 4, 5]\\n\\n\\nsum Retorna a soma dos elementos da lista.\\nL = [10, 20, 30]\\nsum(L)\\nSaída: 60'"
            ],
            "application/vnd.google.colaboratory.intrinsic+json": {
              "type": "string"
            }
          },
          "metadata": {},
          "execution_count": 7
        }
      ]
    },
    {
      "cell_type": "markdown",
      "source": [
        "##AULA 3 - STRINGS E RANDOM"
      ],
      "metadata": {
        "id": "ObdNIL5RLC6k"
      }
    },
    {
      "cell_type": "code",
      "source": [
        "\n",
        "'''\n",
        "STRINGS SÃO TODO TIPO DE TEXTO QUE SE ENCONTRA ENTRA \"\"(aspas) onde cada elemento dessa string é\n",
        "tem uma posição, o que nos permite manipular elas, mas não mudar seu conteudo\n",
        "'''\n",
        "\n",
        "string = \"clayton\"\n",
        "\n",
        "print(string[::-1])\n",
        "#usamos os mesmos comandos de listas\n",
        "\n",
        "\n",
        "\"\"\"random é uma biblioteca em python que nos permite usar argumentos de aleatoridade em nosso\n",
        "código\"\"\"\n",
        "\n",
        "L = list(range(1,10,1))\n",
        "print(L)\n",
        "\n",
        "rd.shuffle(L)\n",
        "print(L)"
      ],
      "metadata": {
        "colab": {
          "base_uri": "https://localhost:8080/"
        },
        "id": "0vMhiUWlEWNm",
        "outputId": "5fb16991-e511-43b8-aa2a-3ea359d8ad13"
      },
      "execution_count": null,
      "outputs": [
        {
          "output_type": "stream",
          "name": "stdout",
          "text": [
            "notyalc\n",
            "[1, 2, 3, 4, 5, 6, 7, 8, 9]\n",
            "[8, 2, 7, 5, 9, 1, 3, 6, 4]\n"
          ]
        }
      ]
    },
    {
      "cell_type": "markdown",
      "source": [
        "##AUL 4 - ESTRUTURAS DE ORDENAÇÃO\n",
        "REVISAR DEPOIS"
      ],
      "metadata": {
        "id": "tJgp8K9TKuCd"
      }
    },
    {
      "cell_type": "code",
      "source": [
        "#AULA 4 - ESTRUTURAS DE ORDENAÇÃO\n",
        "'''são usados para ordenar uma quantidade de elementos de acordo com o argume to que for passado.'''\n",
        "L = list(range(1,10,1))\n",
        "print(L)\n",
        "\n",
        "rd.shuffle(L)\n",
        "print(L)\n",
        "\n",
        "#SELECTION SORT\n",
        "def selectionsort(array, tam):\n",
        "  #array = a lista que vai ser ordenada\n",
        "  #tam = tamanho da lista que vai ser odenada\n",
        "    for passo in range(tam):\n",
        "        min_i =  passo\n",
        "        #este loop percorre o a lista que vai ser ordenada identificando os valores\n",
        "\n",
        "        for i in range(passo + 1, tam):\n",
        "            if array[i] < array[min_i]:\n",
        "                min_i = i\n",
        "                #neste loop ele verifica se o primeiro valor é menor que o segundo\n",
        "                #Caso seja ele posiciona este elemento\n",
        "\n",
        "        (array[passo], array[min_i]) = (array[min_i], array[passo])\n",
        "\n",
        "rd.shuffle(L)\n",
        "print(L)\n",
        "\n",
        "selectionsort(L, len(L))\n",
        "print(L)\n",
        "\n",
        "\n",
        "\n",
        "#INSERTION SORT\n",
        "def insertionsort(array):\n",
        "    for passo in range(1, len(array)):\n",
        "        i = array[passo]\n",
        "        j = passo-1\n",
        "        while j >= 0 and i < array[j]:\n",
        "            array[j + 1] = array[j]\n",
        "            j = j - 1\n",
        "        array[j + 1 ] = i\n",
        "\n",
        "\n",
        "rd.shuffle(L)\n",
        "print(L)\n",
        "\n",
        "insertionsort(L)\n",
        "print(L)\n",
        "\n",
        "\n",
        "\n",
        "#BUBBLE SORT\n",
        "def bubblesort(array):\n",
        "    for iter_num in range(len(array)-1, 0, -1):\n",
        "        for i in range(iter_num):\n",
        "            if array[i] > array[i + 1]:\n",
        "                temp = array[i]\n",
        "                array[i] = array[i + 1]\n",
        "                array[i + 1] = temp\n",
        "\n",
        "rd.shuffle(L)\n",
        "print(L)\n",
        "\n",
        "bubblesort(L)\n",
        "print(L)\n",
        "\n",
        "\n",
        "\n",
        "\n",
        "#QUICK SORT\n",
        "def quick_sort(arr):\n",
        "\n",
        "    if len(arr) <= 1:\n",
        "        return arr\n",
        "    else:\n",
        "        pivot = arr[0]  # Escolhe o primeiro elemento como pivô\n",
        "        less_than_pivot = [x for x in arr[1:] if x <= pivot]\n",
        "        greater_than_pivot = [x for x in arr[1:] if x > pivot]\n",
        "        return quick_sort(less_than_pivot) + [pivot] + quick_sort(greater_than_pivot)\n",
        "\n",
        "'''pivot = arr[0]: Aqui, escolhemos o primeiro elemento da lista como o pivô.\n",
        "Este é um método simples de escolher o pivô, mas existem outras estratégias para escolher o pivô,\n",
        "como escolher um elemento aleatório ou usar o método do elemento do meio.\n",
        "\n",
        "less_than_pivot = [x for x in arr[1:] if x <= pivot]: Esta linha cria uma nova lista\n",
        "less_than_pivotque contém todos os elementos da lista original que são menores ou iguais ao pivô.\n",
        "\n",
        "greater_than_pivot = [x for x in arr[1:] if x > pivot]: Similarmente, esta linha cria uma lista\n",
        "greater_than_pivot que contém todos os elementos da lista original que são maiores que o pivô.\n",
        "\n",
        "return quick_sort(less_than_pivot) + [pivot] + quick_sort(greater_than_pivot): Aqui, chamamos\n",
        "recursivamente a função quick_sort para ordenar as sublistas less_than_pivot e greater_than_pivot.\n",
        "Em seguida, concatenamos essas sublistas ordenadas, juntamente com o pivô entre elas. Isso garante\n",
        "que todos os elementos menores que o pivô estejam à esquerda dele na lista ordenada, e todos os\n",
        "elementos maiores que o pivô estejam à direita dele.'''\n",
        "\n",
        "rd.shuffle(L)\n",
        "print(L)\n",
        "\n",
        "quick_sort(L)\n",
        "print(L)\n",
        "\n",
        "\n",
        "\n",
        "#MERGE\n",
        "def merge(A, aux, esquerda, meio, direita):\n",
        "    for k in range(esquerda, direita + 1):\n",
        "        aux[k] = A[k]\n",
        "\n",
        "    i = esquerda\n",
        "    j = meio + 1\n",
        "\n",
        "    for k in range(esquerda, direita + 1):\n",
        "        if i > meio:\n",
        "            A[k] = aux[j]\n",
        "            j += 1\n",
        "\n",
        "        elif j > direita:\n",
        "            A[k] = aux[i]\n",
        "            i += 1\n",
        "\n",
        "        elif aux[j] < aux[i]:\n",
        "            A[k] = aux[j]\n",
        "            j +=1\n",
        "\n",
        "        else:\n",
        "            A[k] = aux[i]\n",
        "            i += 1\n",
        "\n",
        "\n",
        "\n",
        "#MERGE SORT\n",
        "def mergesort(A, aux, esquerda, direita):\n",
        "    if direita <= esquerda:\n",
        "        return\n",
        "    meio = (esquerda + direita) //2\n",
        "\n",
        "    mergesort(A, aux, esquerda, meio)\n",
        "\n",
        "    mergesort(A, aux, meio + 1 , direita)\n",
        "\n",
        "    merge(A, aux, esquerda, meio, direita)\n",
        "\n",
        "\n",
        "rd.shuffle(L)\n",
        "print(L)\n",
        "\n",
        "aux = [0] * len(L)\n",
        "mergesort(L, aux, 0, len(L) - 1)\n",
        "print(L)\n",
        "\n"
      ],
      "metadata": {
        "colab": {
          "base_uri": "https://localhost:8080/"
        },
        "id": "4uiWO_vaDj5N",
        "outputId": "18a4ff7c-6bd1-4aa3-8b90-af80913ac3de"
      },
      "execution_count": null,
      "outputs": [
        {
          "output_type": "stream",
          "name": "stdout",
          "text": [
            "[1, 2, 3, 4, 5, 6, 7, 8, 9]\n",
            "[3, 2, 7, 8, 6, 5, 1, 4, 9]\n",
            "[8, 9, 2, 6, 1, 7, 4, 3, 5]\n",
            "[1, 2, 3, 4, 5, 6, 7, 8, 9]\n",
            "[7, 8, 1, 3, 2, 9, 5, 4, 6]\n",
            "[1, 2, 3, 4, 5, 6, 7, 8, 9]\n",
            "[3, 8, 1, 5, 2, 4, 6, 9, 7]\n",
            "[1, 2, 3, 4, 5, 6, 7, 8, 9]\n",
            "[1, 2, 8, 3, 5, 4, 6, 9, 7]\n",
            "[1, 2, 8, 3, 5, 4, 6, 9, 7]\n",
            "[3, 8, 7, 9, 2, 4, 5, 6, 1]\n",
            "[1, 2, 3, 4, 5, 6, 7, 8, 9]\n"
          ]
        }
      ]
    },
    {
      "cell_type": "markdown",
      "source": [
        "##AULA 5 - RECURSÃO\n"
      ],
      "metadata": {
        "id": "mw7Z6TtQLGHt"
      }
    },
    {
      "cell_type": "code",
      "source": [
        "'''AS LEIS DA RECURSIVIDADE\n",
        "Os algoritmos recursivos devem seguir as seguintes definições:\n",
        "1. Devem ter um caso base.\n",
        "  caso base é quando atingimos o resulado e a função pode parar de chamar a si mesma\n",
        "2. Devem alterar seu estado e se aproximar do caso básico, chamado caso recursivo.\n",
        "  caso recursivo é quando ainda não atingimos o resultado esperado e devemos chamar a função novamente até chegar ao caso base\n",
        "3. Devem chamar a si mesmos.\n",
        "  o processo que faz um caso recursivo chamar a si mesmo até chegar no caso base'''\n",
        "\n",
        "#UMA FUNÇÃO RECURSIVA SERVE QUANDO O PROBLEMA É COMPOSTO DE FAZER UMA MESMA COISA DIVERSAS VEZES.\n",
        "\n",
        "#RECURSÃO É QUANDO UMA FUNÇÃO CHAMA A SI MESMA ATÉ QUE O RESULTADO ESPERADO SEJA CUMPRIDO\n",
        "\n",
        "\n",
        "'''ITERAÇÃO X RECURSÃO\n",
        "Recursão: ideal para problemas que se dividem naturalmente em subproblemas menores, como estruturas recursivas (árvores, listas aninhadas) ou problemas matemáticos (fatorial, sequências de Fibonacci).\n",
        "  usa do chamado da função à ela mesma para completar a terefa\n",
        "\n",
        "\n",
        "Iteração: mais eficiente para problemas que exigem muitas repetições, como percorrer listas ou arrays, ou quando a memória é um fator crucial.\n",
        "  usa estruturas de repetição como for e while para completar a tarefa\n",
        "'''\n",
        "\n",
        "\n",
        "#EXEMPLO DE RECURSÃO\n",
        "def fatorial(n):\n",
        "  if n==0:\n",
        "    return 1\n",
        "  return n*fatorial(n-1)\n",
        "\n",
        "n = 4\n",
        "print(fatorial(4))\n",
        "\n",
        "\n",
        "#Recursão direta:\n",
        "'''uma função que contém um comando para chamar ela mesma'''\n",
        "def contar_decrescente(n):\n",
        "  if n == 0:\n",
        "    print(\"Chegamos ao zero!\")\n",
        "  else:\n",
        "    print(n)\n",
        "    contar_decrescente(n - 1)\n",
        "'''nesta função chamamos ela novamente até que o caso base (n == 0) seja completado e ela possa parar'''\n",
        "\n",
        "#Recursão indireta:\n",
        "'''quando uma função chama outra função, que chama outra e assim por diante'''\n",
        "def fatorial(n):\n",
        "  def auxiliar(x):\n",
        "    if x == 0:\n",
        "      return 1\n",
        "    else:\n",
        "      return x * auxiliar(x - 1)\n",
        "  return auxiliar(n)\n",
        "'''nesta função, a função fatorial define a função auxiliar, divindo as tarefas e criando um loop. ao chamar fatorial, ela define o argumento para\n",
        "auxiliar e essa por sua vez faz o calculo.'''"
      ],
      "metadata": {
        "colab": {
          "base_uri": "https://localhost:8080/",
          "height": 72
        },
        "id": "16EamTxMLNaF",
        "outputId": "84ecf59b-c7ad-4b5c-bde6-0814d0561b87"
      },
      "execution_count": null,
      "outputs": [
        {
          "output_type": "stream",
          "name": "stdout",
          "text": [
            "24\n"
          ]
        },
        {
          "output_type": "execute_result",
          "data": {
            "text/plain": [
              "'nesta função, a função fatorial define a função auxiliar, divindo as tarefas e criando um loop. ao chamar fatorial, ela define o argumento para\\nauxiliar e essa por sua vez faz o calculo.'"
            ],
            "application/vnd.google.colaboratory.intrinsic+json": {
              "type": "string"
            }
          },
          "metadata": {},
          "execution_count": 14
        }
      ]
    },
    {
      "cell_type": "markdown",
      "source": [
        "##AULA 6 - IMPLEMENTAÇÃO DE ALGORITMOS E PROBLEMAS CLÁSSICOS"
      ],
      "metadata": {
        "id": "Yf_0SzraRwyd"
      }
    },
    {
      "cell_type": "code",
      "source": [],
      "metadata": {
        "id": "xEG8Xj-AR3Ut"
      },
      "execution_count": null,
      "outputs": []
    },
    {
      "cell_type": "markdown",
      "source": [
        "##AULA 7 - MANIPULAÇÃO DE ARQUIVOS"
      ],
      "metadata": {
        "id": "zskDU27qR3tk"
      }
    },
    {
      "cell_type": "code",
      "source": [
        "'''Em python podemos manipular arquivos de diversos tipos, podendo ler a informações deles e também editar o arquivo.\n",
        "antes que possamos fazer qualquer coisa, temos que digitar o nome do arquivo (que deve estar localizado na mesma pasta que o script python) e o modo que ele será aberto.\n",
        "Os modos de acesso em Python são seis:\n",
        "• Somente leitura (r): Abre o arquivo para leitura. O ponteiro identificador será\n",
        "apontado para o início do arquivo. Se o arquivo não existir, será gerado um\n",
        "erro de Entrada/Saída. É o modo padrão.\n",
        "\n",
        "• Leitura e escrita (r +): Abre o arquivo para leitura e escrita. O ponteiro identifi-\n",
        "cador será apontado no início do arquivo. Se o arquivo não existir, será gerado\n",
        "um erro de Entrada/Saída.\n",
        "\n",
        "• Somente escrita (w): Abre o arquivo para gravação. Quando o arquivo existe,\n",
        "será truncado ou sobrescrito. O ponteiro identificador é apontado no início\n",
        "do arquivo. Cria o arquivo se ele não existir.\n",
        "\n",
        "• Escrita e Leitura (w +): Abre o arquivo para leitura e escrita. Para o arquivo\n",
        "existente, os dados são truncados e sobrescritos. O ponteiro identificador\n",
        "será apontado no início do arquivo.\n",
        "\n",
        "• Somente Append – Continuação da gravação (a): Abre o arquivo para grava-\n",
        "ção. O arquivo é criado se não existir. O ponteiro identificador será apontado\n",
        "no final do arquivo. Os dados serão inseridos no final, após os dados existentes.\n",
        "\n",
        "\n",
        "• Anexar e ler (a +): Abre o arquivo para leitura e gravação. Se não existir, o ar-\n",
        "quivo será gerado. O ponteiro identificador será apontado no final do arquivo.\n",
        "Os dados que estão sendo gravados serão inseridos ao final, após os dados\n",
        "existentes\n",
        "'''\n",
        "\n",
        "'''Aqui no google colab, ou tenho que configurar para acessar o meu drive ou tenho que fazer o upload do arqvuio.\n",
        "\n",
        "Usar o função with fecha automaticamente o arquivo após fazer a sequencia que é necessario\n",
        "#exemplo\n",
        "with open('/content/drive/MyDrive/meu_arquivo.txt', 'r') as f:\n",
        "    conteudo = f.read()\n",
        "print(conteudo)\n",
        "'''\n",
        "\n",
        "\n"
      ],
      "metadata": {
        "id": "n0cxL9zsR661",
        "colab": {
          "base_uri": "https://localhost:8080/",
          "height": 183
        },
        "outputId": "9c281ce8-4f23-419c-d601-135278b8a739"
      },
      "execution_count": null,
      "outputs": [
        {
          "output_type": "error",
          "ename": "FileNotFoundError",
          "evalue": "[Errno 2] No such file or directory: 'teste.txt'",
          "traceback": [
            "\u001b[0;31m---------------------------------------------------------------------------\u001b[0m",
            "\u001b[0;31mFileNotFoundError\u001b[0m                         Traceback (most recent call last)",
            "\u001b[0;32m<ipython-input-30-7ac50b01789b>\u001b[0m in \u001b[0;36m<cell line: 31>\u001b[0;34m()\u001b[0m\n\u001b[1;32m     29\u001b[0m '''\n\u001b[1;32m     30\u001b[0m \u001b[0;34m\u001b[0m\u001b[0m\n\u001b[0;32m---> 31\u001b[0;31m \u001b[0marquivo\u001b[0m \u001b[0;34m=\u001b[0m \u001b[0mopen\u001b[0m\u001b[0;34m(\u001b[0m\u001b[0;34m'teste.txt'\u001b[0m\u001b[0;34m)\u001b[0m\u001b[0;34m\u001b[0m\u001b[0;34m\u001b[0m\u001b[0m\n\u001b[0m",
            "\u001b[0;31mFileNotFoundError\u001b[0m: [Errno 2] No such file or directory: 'teste.txt'"
          ]
        }
      ]
    },
    {
      "cell_type": "markdown",
      "source": [
        "##AULA 8 - IMPLEMENTAÇÃO DE ALGORITMOS E PROBLEMAS CLÁSSICOS"
      ],
      "metadata": {
        "id": "XprGm-FIR7aW"
      }
    },
    {
      "cell_type": "code",
      "source": [
        "#EXCESSÕES\n",
        "\n",
        "#ERROS:\n",
        "fim = False\n",
        "\n",
        "while not fim:\n",
        "  try:\n",
        "    a = int(input('digite um numero: '))\n",
        "    b = int(input('digite um nuemro: '))\n",
        "    print(a/b)\n",
        "    fim = True\n",
        "  except ZeroDivisionError:\n",
        "    print('Não se divide por zero!')\n",
        "  except ValueError:\n",
        "    print('Digite um numero!')"
      ],
      "metadata": {
        "id": "VFyoPxxDR-Ic",
        "colab": {
          "base_uri": "https://localhost:8080/"
        },
        "outputId": "8914d1cd-d693-4cd2-931f-5a854a2800e0"
      },
      "execution_count": null,
      "outputs": [
        {
          "output_type": "stream",
          "name": "stdout",
          "text": [
            "digite um numero: 4\n",
            "digite um nuemro: 0\n",
            "Não se divide por zero!\n",
            "digite um numero: a\n",
            "Digite um numero!\n",
            "digite um numero: 1\n",
            "digite um nuemro: 0\n",
            "Não se divide por zero!\n",
            "digite um numero: 4\n",
            "digite um nuemro: 3\n",
            "1.3333333333333333\n"
          ]
        }
      ]
    },
    {
      "cell_type": "markdown",
      "source": [
        "#INTRODUÇÃO A IA\n",
        "\n"
      ],
      "metadata": {
        "id": "iyFdrh4FLQLQ"
      }
    },
    {
      "cell_type": "markdown",
      "source": [
        "##Aula 1"
      ],
      "metadata": {
        "id": "O-9R7u6YL4F3"
      }
    },
    {
      "cell_type": "code",
      "source": [],
      "metadata": {
        "colab": {
          "base_uri": "https://localhost:8080/"
        },
        "id": "RbEZFXD2M7gX",
        "outputId": "289edb59-6877-4dd0-bcf2-09c4ba20d53e"
      },
      "execution_count": null,
      "outputs": [
        {
          "output_type": "stream",
          "name": "stdout",
          "text": [
            "Requirement already satisfied: miniKanren in /usr/local/lib/python3.10/dist-packages (1.0.3)\n",
            "Requirement already satisfied: toolz in /usr/local/lib/python3.10/dist-packages (from miniKanren) (0.12.1)\n",
            "Requirement already satisfied: cons>=0.4.0 in /usr/local/lib/python3.10/dist-packages (from miniKanren) (0.4.6)\n",
            "Requirement already satisfied: multipledispatch in /usr/local/lib/python3.10/dist-packages (from miniKanren) (1.0.0)\n",
            "Requirement already satisfied: etuples>=0.3.1 in /usr/local/lib/python3.10/dist-packages (from miniKanren) (0.3.9)\n",
            "Requirement already satisfied: logical-unification>=0.4.1 in /usr/local/lib/python3.10/dist-packages (from miniKanren) (0.4.6)\n"
          ]
        }
      ]
    },
    {
      "cell_type": "code",
      "source": [
        "#EXEMPLO 1 - SÓCRATES\n",
        "\n",
        "#instalar e importar a biblioteca\n",
        "!pip install miniKanren\n",
        "from kanren import Relation, fact, var, run\n",
        "\n",
        "#Cria o predicado homem e define que Sócrates é um homem\n",
        "homem = Relation()\n",
        "fact(homem, 'Sócrates') #Fact no singular simboliza o relcionamento entre 2 termos\n",
        "\n",
        "#cria a função mortal para definir que o homem é mortal\n",
        "def mortal(x):\n",
        "  return homem(x)\n",
        "\n",
        "x = var()\n",
        "\n",
        "#O primeiro parametro(1) é a quantidade de soluções que queremos obter\n",
        "#O segundo parametro(x) é a variavel de saída\n",
        "#O terceiro parametro(mortal(x)) é o objetivo que queremos inferir\n",
        "r = run(1, x, mortal(x))\n",
        "\n",
        "print(r)"
      ],
      "metadata": {
        "colab": {
          "base_uri": "https://localhost:8080/"
        },
        "id": "k9y5dPHsMuWJ",
        "outputId": "55cdf553-b59c-4f09-b8d7-68c2fcc2fab5"
      },
      "execution_count": null,
      "outputs": [
        {
          "output_type": "stream",
          "name": "stdout",
          "text": [
            "Requirement already satisfied: miniKanren in /usr/local/lib/python3.10/dist-packages (1.0.3)\n",
            "Requirement already satisfied: toolz in /usr/local/lib/python3.10/dist-packages (from miniKanren) (0.12.1)\n",
            "Requirement already satisfied: cons>=0.4.0 in /usr/local/lib/python3.10/dist-packages (from miniKanren) (0.4.6)\n",
            "Requirement already satisfied: multipledispatch in /usr/local/lib/python3.10/dist-packages (from miniKanren) (1.0.0)\n",
            "Requirement already satisfied: etuples>=0.3.1 in /usr/local/lib/python3.10/dist-packages (from miniKanren) (0.3.9)\n",
            "Requirement already satisfied: logical-unification>=0.4.1 in /usr/local/lib/python3.10/dist-packages (from miniKanren) (0.4.6)\n",
            "('Sócrates',)\n"
          ]
        }
      ]
    },
    {
      "cell_type": "code",
      "source": [
        "import kanren as mk\n",
        "\n",
        "#criar as contantes\n",
        "\n",
        "MARIA = 'Maria'\n",
        "CARLA = 'Carla'\n",
        "LUCAS = 'Lucas'\n",
        "\n",
        "#cria os predicados mãe e irmã\n",
        "mae = mk.Relation()\n",
        "irma = mk.Relation()\n",
        "mk.facts(mae, (MARIA, LUCAS)) #Define que maria é mãe do lucas no relacionamento mae, \"MARIA É mae DE LUCAS\"\n",
        "# Atente-se que neste caso usamos o facts (no plural), porque vamos armazenar mais de um relacinamento por varivavel.\n",
        "mk.facts(irma, (MARIA, CARLA))#Define que maria é irmã de carla\n",
        "#Nisso concluimos que a função Relation, cria um relacionamento com um nome definido. e a Função fact define quem participa deste relacionamento.\n",
        "#frase de fixação. \"o primeiro termo é {nome do relacionemento} do segundo termo\"\n",
        "\n",
        "\n",
        "#cria a funçao Tia e implementa a implicação\n",
        "#mae(x, y) ^ irma(x, z) => tia(z, y)\n",
        "def tia(z, y):\n",
        "  #porque criar uma função aqui?\n",
        "  x = mk.var()\n",
        "  '''observe que passamos apenas z e y para a função e criamos\n",
        "  a varivavel x internamento. Com a unificação, obtemos a resposta\n",
        "  correta, 0 = {x/ Maria, y/ Lucas, z/ Carla}'''\n",
        "  return mk.conde(\n",
        "      (mae(x,y),\n",
        "       irma(x,z))\n",
        "      )\n",
        "\n",
        "t = mk.var()\n",
        "r = mk.run(1, t, tia(t, LUCAS))\n",
        "\n",
        "print(f\"{r[0]} é tia de {LUCAS}.\")\n"
      ],
      "metadata": {
        "colab": {
          "base_uri": "https://localhost:8080/"
        },
        "id": "U8q0WkRpSPJX",
        "outputId": "13971bf9-0eaa-4f50-bf08-e3f52c697cf5"
      },
      "execution_count": null,
      "outputs": [
        {
          "output_type": "stream",
          "name": "stdout",
          "text": [
            "Carla é tia de Lucas.\n"
          ]
        }
      ]
    },
    {
      "cell_type": "code",
      "source": [
        "#PROBLEMA LÓGICO ALICE NO PAIS DAS MARAVILHAS\n",
        "'''Descobrir qual dia da semana é com base no enigma do unicornio e do leão.\n",
        "Deve usar a biblioteca  minKanren\n",
        "'''\n",
        "\n"
      ],
      "metadata": {
        "id": "0myoWo8qLT55"
      },
      "execution_count": null,
      "outputs": []
    },
    {
      "cell_type": "markdown",
      "source": [
        "##Aula 2"
      ],
      "metadata": {
        "id": "pTihIRA5L6gn"
      }
    },
    {
      "cell_type": "code",
      "source": [
        "#ALGORITMOS GÉNETICOS\n",
        "\n"
      ],
      "metadata": {
        "id": "fS9WH9pZLl3-"
      },
      "execution_count": null,
      "outputs": []
    },
    {
      "cell_type": "code",
      "source": [],
      "metadata": {
        "id": "oqKEUNEuWQiX"
      },
      "execution_count": null,
      "outputs": []
    },
    {
      "cell_type": "markdown",
      "source": [
        "##Aula 3\n"
      ],
      "metadata": {
        "id": "h5_L7ugyWRGO"
      }
    },
    {
      "cell_type": "code",
      "source": [
        "#INTRODUÇÃO A ML\n"
      ],
      "metadata": {
        "id": "ZgLeBTU7WS4P"
      },
      "execution_count": null,
      "outputs": []
    },
    {
      "cell_type": "markdown",
      "source": [
        "#Data Science"
      ],
      "metadata": {
        "id": "GV3r7ivxfpCt"
      }
    },
    {
      "cell_type": "code",
      "source": [
        "#1 Escreva uma função que calcule a soma de dois números.\n",
        "\n",
        "def soma(x,y):\n",
        "  return x+y"
      ],
      "metadata": {
        "colab": {
          "base_uri": "https://localhost:8080/"
        },
        "id": "apWsu9-vh9pE",
        "outputId": "5d738b87-58a1-4fab-e8a9-649b5a96338b"
      },
      "execution_count": null,
      "outputs": [
        {
          "output_type": "execute_result",
          "data": {
            "text/plain": [
              "4"
            ]
          },
          "metadata": {},
          "execution_count": 1
        }
      ]
    },
    {
      "cell_type": "code",
      "source": [
        "#2 Escreva uma função que calcule a média de três números.\n",
        "\n",
        "def media(x,y,z):\n",
        "  return (x+y+z)/3"
      ],
      "metadata": {
        "id": "E0M_hPAMiLXs"
      },
      "execution_count": null,
      "outputs": []
    },
    {
      "cell_type": "code",
      "source": [
        "#3 Escreva uma função que verifique se um número é par ou ímpar.\n",
        "\n",
        "def impar(x):\n",
        "  if x%2 != 0:\n",
        "    return 'ímpar'\n",
        "  else:\n",
        "    return 'Par'"
      ],
      "metadata": {
        "colab": {
          "base_uri": "https://localhost:8080/",
          "height": 36
        },
        "id": "S2N0XqXTiTvT",
        "outputId": "02f0d47f-83d8-4d0f-b014-fe8e5af675c9"
      },
      "execution_count": null,
      "outputs": [
        {
          "output_type": "execute_result",
          "data": {
            "text/plain": [
              "'ímpar'"
            ],
            "application/vnd.google.colaboratory.intrinsic+json": {
              "type": "string"
            }
          },
          "metadata": {},
          "execution_count": 4
        }
      ]
    },
    {
      "cell_type": "code",
      "source": [
        "#4 Escreva uma função que converta uma temperatura de Celsius para Fahrenheit.\n",
        "\n",
        "\n",
        "def conversao_c_to_f(x):\n",
        "  return (x*1.8)+32"
      ],
      "metadata": {
        "colab": {
          "base_uri": "https://localhost:8080/"
        },
        "id": "-PiND3nEi2AD",
        "outputId": "061be4a3-edeb-4d3c-dbc7-e509c2a25abe"
      },
      "execution_count": null,
      "outputs": [
        {
          "output_type": "execute_result",
          "data": {
            "text/plain": [
              "39.2"
            ]
          },
          "metadata": {},
          "execution_count": 9
        }
      ]
    },
    {
      "cell_type": "code",
      "source": [
        "#5 Importe o módulo math e utilize as funções sqrt() e pow() para calcular a raiz quadrada e a potência de um número, respectivamente.\n",
        "\n",
        "import math as mt\n",
        "\n",
        "mt.sqrt(x)\n",
        "\n",
        "mt.pow(x,y)\n",
        "\n"
      ],
      "metadata": {
        "colab": {
          "base_uri": "https://localhost:8080/"
        },
        "id": "WgESDZ5xkQo6",
        "outputId": "cf6e55e7-5b2c-4838-f197-6a43f98cc0d7"
      },
      "execution_count": null,
      "outputs": [
        {
          "output_type": "execute_result",
          "data": {
            "text/plain": [
              "81.0"
            ]
          },
          "metadata": {},
          "execution_count": 15
        }
      ]
    },
    {
      "cell_type": "code",
      "source": [
        "#6 Crie um programa que utilize uma função para calcular a área de um retângulo.\n",
        "\n",
        "def area_retangulo(base,altura):\n",
        "  return base*altura"
      ],
      "metadata": {
        "id": "_98IXq2qld6K"
      },
      "execution_count": null,
      "outputs": []
    },
    {
      "cell_type": "code",
      "source": [
        "#7 Crie um programa que utilize uma função para calcular a área de um círculo.\n",
        "\n",
        "from math import pi, pow\n",
        "\n",
        "def area_circulo(raio):\n",
        "  return (pi)*(pow(raio,2))"
      ],
      "metadata": {
        "id": "3V9KfZ1tmPQy"
      },
      "execution_count": null,
      "outputs": []
    },
    {
      "cell_type": "code",
      "source": [
        "#8 Crie um programa que utilize uma função para calcular o volume de um cubo.\n",
        "from math import pow\n",
        "\n",
        "def volume(lado_cubo):\n",
        "  volume_cubo = pow(lado_cubo, 3)"
      ],
      "metadata": {
        "id": "YtQrlgUrnNqK"
      },
      "execution_count": null,
      "outputs": []
    },
    {
      "cell_type": "code",
      "source": [
        "#9 Crie um programa que utilize uma função para calcular o fatorial de um número.\n",
        "\n",
        "def fatorial(x):\n",
        "  if x == 0:\n",
        "    return 1\n",
        "  else:\n",
        "    return x*fatorial(x-1):\n",
        "\n",
        "'''A FUNÇÃO RECURSIVA ABRE UMA ESPECIE DE ESCADA QUE VAI ABRINDO ATÉ ENCONTRAR O CASO BASE E ASSIM SOLUCIONAR O PROBLEMA\n",
        "\n",
        "def fatorial(x):\n",
        "  x = 3\n",
        "  if x == 0:\n",
        "    return 1\n",
        "  else:\n",
        "    return 3*fatorial(3-1):\n",
        "              if x == 0:\n",
        "                return 1\n",
        "              else:\n",
        "                return 2*fatorial(2-1):\n",
        "                          if x == 0:\n",
        "                             return 1\n",
        "                          else:\n",
        "                            return 1*fatorial(1-1):\n",
        "                                      if x == 0:\n",
        "                                         return 1\n",
        "#AQUI ACHAMOS O CASO BASE E ENTÃO A FUNÇÃO VAI VOLTAR FECHANDO CADA CICLO QUE ABRIU E NOS DEVOLVER NOSSO RESULATADO\n",
        "\n",
        "                                     else:\n",
        "                                         return 0*fatorial(0-1)\n",
        "\n",
        "'''"
      ],
      "metadata": {
        "colab": {
          "base_uri": "https://localhost:8080/"
        },
        "id": "tahwfH9mnthi",
        "outputId": "4cd99a91-93af-40eb-d9e2-9de7b213754c"
      },
      "execution_count": null,
      "outputs": [
        {
          "output_type": "execute_result",
          "data": {
            "text/plain": [
              "24"
            ]
          },
          "metadata": {},
          "execution_count": 20
        }
      ]
    },
    {
      "cell_type": "code",
      "source": [
        "#10 Crie um programa que utilize um módulo para enviar um e-mail.\n",
        "\n"
      ],
      "metadata": {
        "id": "tSkg73UFqJPo"
      },
      "execution_count": null,
      "outputs": []
    }
  ]
}